{
 "cells": [
  {
   "cell_type": "code",
   "execution_count": 10,
   "metadata": {},
   "outputs": [],
   "source": [
    "#Scraping BNA bank. Dolar-Peso Argentino.\n",
    "\n",
    "import datetime\n",
    "from bs4 import BeautifulSoup\n",
    "from selenium import webdriver\n",
    "import requests\n",
    "import pypyodbc as podbc\n",
    "import json\n",
    "\n",
    "\n",
    "url = \"https://www.bna.com.ar/Personas\"\n",
    "page = requests.get(url)\n"
   ]
  },
  {
   "cell_type": "code",
   "execution_count": 3,
   "metadata": {},
   "outputs": [],
   "source": [
    "#Transforming into a soup object\n",
    "soup = BeautifulSoup(page.content, 'html.parser')"
   ]
  },
  {
   "cell_type": "code",
   "execution_count": 4,
   "metadata": {},
   "outputs": [],
   "source": [
    "#Dolar value in position 2.\n",
    "clase = 'table cotizacion'\n",
    "cotizacion = float(soup.find(class_ = clase).find_all('td')[2].text.replace(',', '.'))"
   ]
  },
  {
   "cell_type": "code",
   "execution_count": 7,
   "metadata": {},
   "outputs": [
    {
     "name": "stdout",
     "output_type": "stream",
     "text": [
      "Today the dolar value is 104.5$\n"
     ]
    }
   ],
   "source": [
    "print(f'Today the dolar value is {cotizacion}$')"
   ]
  },
  {
   "cell_type": "code",
   "execution_count": 9,
   "metadata": {},
   "outputs": [],
   "source": [
    "def connectDB(username, ip,password, base = 'active'):\n",
    "    try:\n",
    "        server = ip\n",
    "        database = 'master'\n",
    "        username = username\n",
    "        password = password\n",
    "        cnxn = podbc.connect('DRIVER={ODBC Driver 17 for SQL Server};SERVER='+server+';DATABASE='+database+';UID='+username+';PWD='+ password)\n",
    "        return cnxn\n",
    "    except:\n",
    "        print(\"Connection with {} failed\".format(base))"
   ]
  },
  {
   "cell_type": "code",
   "execution_count": 13,
   "metadata": {},
   "outputs": [],
   "source": [
    "#Now, we have to insert it into a DB.\n",
    "DOLAR_TABLE = \"ACT_COTIZACION_DOLAR_HSBC\"\n",
    "#Getting credentials from a json to connect to DB.\n",
    "f = open('credentials.json')\n",
    "data = json.load(f)\n",
    "username = data['username']\n",
    "password = data['password']\n",
    "ip = data['ip']"
   ]
  },
  {
   "cell_type": "code",
   "execution_count": 12,
   "metadata": {},
   "outputs": [
    {
     "data": {
      "text/plain": [
       "{'ip': '192.168.120.29', 'username': 'eencina', 'password': 'mopc2021'}"
      ]
     },
     "execution_count": 12,
     "metadata": {},
     "output_type": "execute_result"
    }
   ],
   "source": [
    "\n",
    "#Finally, we can add it to DB.\n",
    "cnxn = connectDB(\"active\")\n",
    "#Create a cursor\n",
    "cursor = cnxn.cursor()\n",
    "#Execute the query and commit it.\n",
    "cursor.execute(\"INSERT INTO ACTIVE.DBO.{} (COTIZACION,FECHA_COTIZACION) values({},GETDATE())\".format(DOLAR_TABLE,cotizacion)\n",
    "cursor.commit()\n"
   ]
  },
  {
   "cell_type": "code",
   "execution_count": null,
   "metadata": {},
   "outputs": [],
   "source": [
    "#Close the connection\n",
    "cursor.close()"
   ]
  }
 ],
 "metadata": {
  "interpreter": {
   "hash": "5474b78cec31770ce87f6341a6a9f6a62dc6b8dc95ad19d87967b6521498f739"
  },
  "kernelspec": {
   "display_name": "Python 3.9.2 64-bit ('venv': venv)",
   "name": "python3"
  },
  "language_info": {
   "codemirror_mode": {
    "name": "ipython",
    "version": 3
   },
   "file_extension": ".py",
   "mimetype": "text/x-python",
   "name": "python",
   "nbconvert_exporter": "python",
   "pygments_lexer": "ipython3",
   "version": "3.9.2"
  },
  "orig_nbformat": 4
 },
 "nbformat": 4,
 "nbformat_minor": 2
}
