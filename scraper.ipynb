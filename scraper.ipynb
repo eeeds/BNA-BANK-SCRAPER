{
 "cells": [
  {
   "cell_type": "code",
   "execution_count": 1,
   "metadata": {},
   "outputs": [],
   "source": [
    "#Scraping BNA bank. Dolar-Peso Argentino.\n",
    "\n",
    "import datetime\n",
    "\n",
    "#from utils.functions_ia import *\n",
    "\n",
    "from bs4 import BeautifulSoup\n",
    "from selenium import webdriver\n",
    "import requests\n",
    "\n",
    "\n",
    "url = \"https://www.bna.com.ar/Personas\"\n",
    "page = requests.get(url)\n"
   ]
  },
  {
   "cell_type": "code",
   "execution_count": 3,
   "metadata": {},
   "outputs": [],
   "source": [
    "#Transforming into a soup object\n",
    "soup = BeautifulSoup(page.content, 'html.parser')"
   ]
  },
  {
   "cell_type": "code",
   "execution_count": 4,
   "metadata": {},
   "outputs": [],
   "source": [
    "#Dolar value in position 2.\n",
    "clase = 'table cotizacion'\n",
    "cotizacion = float(soup.find(class_ = clase).find_all('td')[2].text.replace(',', '.'))"
   ]
  },
  {
   "cell_type": "code",
   "execution_count": 7,
   "metadata": {},
   "outputs": [
    {
     "name": "stdout",
     "output_type": "stream",
     "text": [
      "Today the dolar value is 104.5$\n"
     ]
    }
   ],
   "source": [
    "print(f'Today the dolar value is {cotizacion}$')"
   ]
  },
  {
   "cell_type": "code",
   "execution_count": null,
   "metadata": {},
   "outputs": [],
   "source": [
    "#Now, we have to insert it into a DB.\n",
    "DOLAR_TABLE = \"ACT_COTIZACION_DOLAR_HSBC\"\n",
    "#cnxn = connect_database(\"active\")\n",
    "\n",
    "#URL del banco del cual se obtendrá la cotización\n",
    "soup = BeautifulSoup(page.content, 'html.parser')\n",
    "clase = \"table cotizacion\"\n",
    "#En la posición [2] se encuentra el valor de venta del dolar, revisar si cambian el formato de tabla.\n",
    "cotizacion = float(soup.find(class_ = clase).find_all('td')[2].text.replace(',', '.'))\n",
    "\n",
    "print(cotizacion)\n",
    "\n",
    "#cursor = cnxn.cursor()\n",
    "\n",
    "#cursor.execute(\"INSERT INTO ACTIVE.DBO.{} (COTIZACION,FECHA_COTIZACION) values({},GETDATE())\".format(DOLAR_TABLE,cotizacion)\n",
    "#cursor.commit()\n",
    "#cursor.close()"
   ]
  }
 ],
 "metadata": {
  "interpreter": {
   "hash": "5474b78cec31770ce87f6341a6a9f6a62dc6b8dc95ad19d87967b6521498f739"
  },
  "kernelspec": {
   "display_name": "Python 3.9.2 64-bit ('venv': venv)",
   "name": "python3"
  },
  "language_info": {
   "codemirror_mode": {
    "name": "ipython",
    "version": 3
   },
   "file_extension": ".py",
   "mimetype": "text/x-python",
   "name": "python",
   "nbconvert_exporter": "python",
   "pygments_lexer": "ipython3",
   "version": "3.9.2"
  },
  "orig_nbformat": 4
 },
 "nbformat": 4,
 "nbformat_minor": 2
}
